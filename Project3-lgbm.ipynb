{
 "cells": [
  {
   "cell_type": "code",
   "execution_count": 255,
   "metadata": {},
   "outputs": [],
   "source": [
    "import numpy as np\n",
    "import pandas as pd\n",
    "import matplotlib.pyplot as plt\n",
    "import seaborn as sns\n",
    "%matplotlib inline\n",
    "\n",
    "from sklearn.model_selection import train_test_split, GridSearchCV\n",
    "from sklearn.linear_model import LogisticRegression, RidgeClassifier\n",
    "from sklearn.impute import SimpleImputer\n",
    "\n",
    "from sklearn.feature_selection import VarianceThreshold\n",
    "from sklearn.pipeline import Pipeline\n",
    "from sklearn.metrics import roc_auc_score\n",
    "from sklearn.ensemble import RandomForestClassifier, GradientBoostingClassifier, StackingClassifier, VotingClassifier\n",
    "\n",
    "from sklearn.preprocessing import StandardScaler\n",
    "from lightgbm import LGBMClassifier\n",
    "from sklearn.decomposition import KernelPCA\n",
    "from sklearn.svm import SVC\n",
    "from sklearn.model_selection import cross_val_score\n",
    "\n",
    "from sklearn.decomposition import PCA\n",
    "\n",
    "from azureml.core import Workspace, Experiment\n",
    "\n",
    "# from azureml.widgets import RunDetails\n",
    "from azureml.train.sklearn import SKLearn\n",
    "from azureml.train.hyperdrive.run import PrimaryMetricGoal\n",
    "from azureml.train.hyperdrive.policy import BanditPolicy\n",
    "from azureml.train.hyperdrive.sampling import RandomParameterSampling, BayesianParameterSampling\n",
    "from azureml.train.hyperdrive.runconfig import HyperDriveConfig\n",
    "from azureml.train.hyperdrive.parameter_expressions import choice\n",
    "from azureml.data.dataset_factory import TabularDatasetFactory\n",
    "from azureml.widgets import RunDetails\n",
    "from azureml.train.automl import AutoMLConfig\n",
    "from azureml.core.compute import ComputeTarget, AmlCompute\n",
    "from azureml.core import ScriptRunConfig\n",
    "from azureml.core import Workspace, Environment\n",
    "from interpret.glassbox import ExplainableBoostingClassifier\n",
    "\n",
    "import os\n",
    "from sklearn.feature_selection import SelectFromModel\n",
    "\n",
    "\n",
    "seed = 123\n",
    "\n",
    "\n",
    "import warnings\n",
    "warnings.filterwarnings(\"ignore\")"
   ]
  },
  {
   "cell_type": "code",
   "execution_count": 256,
   "metadata": {},
   "outputs": [],
   "source": [
    "path1 = \"http://archive.ics.uci.edu/ml/machine-learning-databases/secom/secom.data\"\n",
    "X = pd.read_table(path1, header=None, delim_whitespace=True)\n",
    "\n",
    "path2 = \"http://archive.ics.uci.edu/ml/machine-learning-databases/secom/secom_labels.data\"\n",
    "y = pd.read_table(path2, header=None, usecols=[0], squeeze=True, delim_whitespace=True)"
   ]
  },
  {
   "cell_type": "code",
   "execution_count": 257,
   "metadata": {},
   "outputs": [],
   "source": [
    "x1,x2,y1,y2 = train_test_split(X,y, random_state=seed, shuffle=True, stratify=y)"
   ]
  },
  {
   "cell_type": "code",
   "execution_count": 258,
   "metadata": {},
   "outputs": [
    {
     "data": {
      "text/html": [
       "<div>\n",
       "<style scoped>\n",
       "    .dataframe tbody tr th:only-of-type {\n",
       "        vertical-align: middle;\n",
       "    }\n",
       "\n",
       "    .dataframe tbody tr th {\n",
       "        vertical-align: top;\n",
       "    }\n",
       "\n",
       "    .dataframe thead th {\n",
       "        text-align: right;\n",
       "    }\n",
       "</style>\n",
       "<table border=\"1\" class=\"dataframe\">\n",
       "  <thead>\n",
       "    <tr style=\"text-align: right;\">\n",
       "      <th></th>\n",
       "      <th>0</th>\n",
       "      <th>1</th>\n",
       "      <th>2</th>\n",
       "      <th>3</th>\n",
       "      <th>4</th>\n",
       "      <th>5</th>\n",
       "      <th>6</th>\n",
       "      <th>7</th>\n",
       "      <th>8</th>\n",
       "      <th>9</th>\n",
       "      <th>...</th>\n",
       "      <th>580</th>\n",
       "      <th>581</th>\n",
       "      <th>582</th>\n",
       "      <th>583</th>\n",
       "      <th>584</th>\n",
       "      <th>585</th>\n",
       "      <th>586</th>\n",
       "      <th>587</th>\n",
       "      <th>588</th>\n",
       "      <th>589</th>\n",
       "    </tr>\n",
       "  </thead>\n",
       "  <tbody>\n",
       "    <tr>\n",
       "      <th>871</th>\n",
       "      <td>3212.46</td>\n",
       "      <td>2522.41</td>\n",
       "      <td>2200.2333</td>\n",
       "      <td>1173.8377</td>\n",
       "      <td>1.3281</td>\n",
       "      <td>100.0</td>\n",
       "      <td>101.6111</td>\n",
       "      <td>0.1211</td>\n",
       "      <td>1.4650</td>\n",
       "      <td>0.0035</td>\n",
       "      <td>...</td>\n",
       "      <td>NaN</td>\n",
       "      <td>NaN</td>\n",
       "      <td>0.4936</td>\n",
       "      <td>0.0131</td>\n",
       "      <td>0.0032</td>\n",
       "      <td>2.6457</td>\n",
       "      <td>0.0117</td>\n",
       "      <td>0.0262</td>\n",
       "      <td>0.0089</td>\n",
       "      <td>223.1018</td>\n",
       "    </tr>\n",
       "    <tr>\n",
       "      <th>385</th>\n",
       "      <td>3067.89</td>\n",
       "      <td>2570.93</td>\n",
       "      <td>2196.8000</td>\n",
       "      <td>1090.0084</td>\n",
       "      <td>1.3270</td>\n",
       "      <td>100.0</td>\n",
       "      <td>99.3944</td>\n",
       "      <td>0.1212</td>\n",
       "      <td>1.5001</td>\n",
       "      <td>-0.0199</td>\n",
       "      <td>...</td>\n",
       "      <td>0.0025</td>\n",
       "      <td>127.2483</td>\n",
       "      <td>0.4968</td>\n",
       "      <td>0.0096</td>\n",
       "      <td>0.0029</td>\n",
       "      <td>1.9411</td>\n",
       "      <td>0.0056</td>\n",
       "      <td>0.0071</td>\n",
       "      <td>0.0025</td>\n",
       "      <td>127.2483</td>\n",
       "    </tr>\n",
       "    <tr>\n",
       "      <th>611</th>\n",
       "      <td>2967.54</td>\n",
       "      <td>2573.09</td>\n",
       "      <td>2160.6000</td>\n",
       "      <td>1124.5821</td>\n",
       "      <td>1.5257</td>\n",
       "      <td>100.0</td>\n",
       "      <td>98.7122</td>\n",
       "      <td>0.1246</td>\n",
       "      <td>1.4750</td>\n",
       "      <td>0.0248</td>\n",
       "      <td>...</td>\n",
       "      <td>NaN</td>\n",
       "      <td>NaN</td>\n",
       "      <td>0.4973</td>\n",
       "      <td>0.0129</td>\n",
       "      <td>0.0030</td>\n",
       "      <td>2.6016</td>\n",
       "      <td>0.0252</td>\n",
       "      <td>0.0157</td>\n",
       "      <td>0.0046</td>\n",
       "      <td>62.3881</td>\n",
       "    </tr>\n",
       "  </tbody>\n",
       "</table>\n",
       "<p>3 rows × 590 columns</p>\n",
       "</div>"
      ],
      "text/plain": [
       "         0        1          2          3       4      5         6       7    \\\n",
       "871  3212.46  2522.41  2200.2333  1173.8377  1.3281  100.0  101.6111  0.1211   \n",
       "385  3067.89  2570.93  2196.8000  1090.0084  1.3270  100.0   99.3944  0.1212   \n",
       "611  2967.54  2573.09  2160.6000  1124.5821  1.5257  100.0   98.7122  0.1246   \n",
       "\n",
       "        8       9    ...     580       581     582     583     584     585  \\\n",
       "871  1.4650  0.0035  ...     NaN       NaN  0.4936  0.0131  0.0032  2.6457   \n",
       "385  1.5001 -0.0199  ...  0.0025  127.2483  0.4968  0.0096  0.0029  1.9411   \n",
       "611  1.4750  0.0248  ...     NaN       NaN  0.4973  0.0129  0.0030  2.6016   \n",
       "\n",
       "        586     587     588       589  \n",
       "871  0.0117  0.0262  0.0089  223.1018  \n",
       "385  0.0056  0.0071  0.0025  127.2483  \n",
       "611  0.0252  0.0157  0.0046   62.3881  \n",
       "\n",
       "[3 rows x 590 columns]"
      ]
     },
     "execution_count": 258,
     "metadata": {},
     "output_type": "execute_result"
    }
   ],
   "source": [
    "x1.head(3)"
   ]
  },
  {
   "cell_type": "code",
   "execution_count": 259,
   "metadata": {},
   "outputs": [
    {
     "name": "stdout",
     "output_type": "stream",
     "text": [
      "The training set has  1175 observations and  590 features\n"
     ]
    }
   ],
   "source": [
    "print(\"The training set has \", x1.shape[0], \"observations and \", x1.shape[1], \"features\")"
   ]
  },
  {
   "cell_type": "code",
   "execution_count": 260,
   "metadata": {},
   "outputs": [
    {
     "data": {
      "text/plain": [
       "float64    590\n",
       "dtype: int64"
      ]
     },
     "execution_count": 260,
     "metadata": {},
     "output_type": "execute_result"
    }
   ],
   "source": [
    "\n",
    "x1.dtypes.value_counts()"
   ]
  },
  {
   "cell_type": "markdown",
   "metadata": {},
   "source": [
    "All 590 are numerical features. Let's find how many columns have NaN values. "
   ]
  },
  {
   "cell_type": "code",
   "execution_count": 261,
   "metadata": {},
   "outputs": [
    {
     "name": "stdout",
     "output_type": "stream",
     "text": [
      "There are 418 features with at least 1 NaN\n"
     ]
    }
   ],
   "source": [
    "na_columns = []\n",
    "for col in x1.columns:\n",
    "    if x1.loc[:,col].isna().sum() > 0:\n",
    "        na_columns.append(col)\n",
    "        \n",
    "print(\"There are\", len(na_columns), \"features with at least 1 NaN\")        "
   ]
  },
  {
   "cell_type": "markdown",
   "metadata": {},
   "source": [
    "Let's see if there are columns that have <5 unique values. "
   ]
  },
  {
   "cell_type": "code",
   "execution_count": 262,
   "metadata": {},
   "outputs": [
    {
     "data": {
      "text/plain": [
       "122"
      ]
     },
     "execution_count": 262,
     "metadata": {},
     "output_type": "execute_result"
    }
   ],
   "source": [
    "unique_columns = []\n",
    "for col in x1.columns:\n",
    "    if x1.loc[:,col].nunique() < 3:\n",
    "        unique_columns.append(col)\n",
    "\n",
    "len(unique_columns)"
   ]
  },
  {
   "cell_type": "markdown",
   "metadata": {},
   "source": [
    "Now, let's see if the target labels are balanced."
   ]
  },
  {
   "cell_type": "code",
   "execution_count": 263,
   "metadata": {},
   "outputs": [
    {
     "data": {
      "text/plain": [
       "-1    0.933617\n",
       " 1    0.066383\n",
       "Name: 0, dtype: float64"
      ]
     },
     "execution_count": 263,
     "metadata": {},
     "output_type": "execute_result"
    }
   ],
   "source": [
    "y1.value_counts(normalize=True)"
   ]
  },
  {
   "cell_type": "markdown",
   "metadata": {},
   "source": [
    "Labels are not balanced, 93.3% of the observations are \"Pass\" and remaining are \"Fail\". Thus, the classifier must be abale to handle 'class_weight'. "
   ]
  },
  {
   "cell_type": "markdown",
   "metadata": {},
   "source": [
    "### Observations and modeling strategy:\n",
    "\n",
    "1. All features are numerical\n",
    "2. Majority of the features have null values => Imputation will be needed\n",
    "3. Features have different scales => scaling will be required\n",
    "4. 122 columns have less than 3 distinct values. This means either they have near constant variance or they might be categorical.  \n",
    "5. Imbalanced dataset\n",
    "\n",
    "\n",
    "Keeping this in mind, we will have to build a pipeline that will include:\n",
    "1. Standarddization\n",
    "2. Imputation\n",
    "3. Variance Threshold to remove near-constant values as they will have less predictive power\n",
    "4. Since number of features are very large, we will need to do dimentionality reduction. While there are many different ways, to keep things simple, I will try two approaches:\n",
    "    - Feature selection by Lasso\n",
    "    - By using PCA\n",
    "5. Typically, use F1 or AUC as the metric since the labels are imbalanced. Also the classifier must be able to handle 'class_weight'.\n",
    "6. We will try three linear algorithms (Logistic, SVC, Ridge) and two tree-based (Random Forest & lightgbm), stacking ensemble and voting ensemble. All algorithms will be based on CV to measure its 'generalizability'.\n",
    "7. Finally, the final model for hyperparameter tuning will be based on:\n",
    "    - Simple\n",
    "    - Parsimonious\n",
    "    - Easy to maintain, debug and interpret"
   ]
  },
  {
   "cell_type": "markdown",
   "metadata": {},
   "source": [
    "## Pipeline"
   ]
  },
  {
   "cell_type": "code",
   "execution_count": 264,
   "metadata": {},
   "outputs": [],
   "source": [
    "fail_weight = y1.value_counts(normalize=True)[1]\n",
    "pass_weight = 1-fail_weight\n",
    "\n",
    "weights = {-1:pass_weight, 1:fail_weight}"
   ]
  },
  {
   "cell_type": "markdown",
   "metadata": {},
   "source": [
    "#### Estimators"
   ]
  },
  {
   "cell_type": "code",
   "execution_count": 281,
   "metadata": {},
   "outputs": [],
   "source": [
    "lr = LogisticRegression(random_state=seed, class_weight = weights)\n",
    "rf = RandomForestClassifier(class_weight=weights, random_state=seed)\n",
    "svc = SVC(class_weight = weights, random_state=seed)\n",
    "lgbm = LGBMClassifier(objectibe='binary', random_state=seed)\n",
    "ridge = RidgeClassifier(class_weight = weights, random_state=seed)\n",
    "pca = PCA(n_components = 200)\n",
    "lasso = LogisticRegression(penalty= 'l1', solver = 'liblinear')\n",
    "gbc = GradientBoostingClassifier(random_state=seed)\n",
    "ebc = ExplainableBoostingClassifier(interactions=1)\n",
    "\n",
    "stack = [('svc',svc), ('lgbm',lgbm), ('lr',lr), ('rf',rf)]\n",
    "\n",
    "voting = VotingClassifier(stack, voting='soft')\n",
    "\n",
    "stacking = StackingClassifier(stack, final_estimator=LogisticRegression())"
   ]
  },
  {
   "cell_type": "code",
   "execution_count": 282,
   "metadata": {},
   "outputs": [],
   "source": [
    "#Define an empty dataframe to store results\n",
    "result_df = pd.DataFrame()"
   ]
  },
  {
   "cell_type": "markdown",
   "metadata": {},
   "source": [
    "#### Fature selection Using Lasso\n",
    "\n",
    "Lasso is a greedy regularization approach and any features that have large weights are shrunk to zero. This cane be used as a first step feature selection. I will first have to impute the values and scale them and then apply 'l1' penalty. By default, `LogisticRegression()` uses 'l2'. Note that the default solver `lbfgs` does not support `'l1` so I will use `liblinear` solver. Here instead of using the entire training dataset, I will sample it a few times to see if I get same number of non-zero columns. \n",
    "\n"
   ]
  },
  {
   "cell_type": "code",
   "execution_count": 283,
   "metadata": {},
   "outputs": [
    {
     "data": {
      "text/plain": [
       "208"
      ]
     },
     "execution_count": 283,
     "metadata": {},
     "output_type": "execute_result"
    }
   ],
   "source": [
    "#Create copy of the training data\n",
    "\n",
    "x_lasso = x1.copy()\n",
    "x_lasso['y'] = y1\n",
    "\n",
    "#transform the data to train a lasso model \n",
    "clean_x = Pipeline([\n",
    "    ('imputer', SimpleImputer(strategy='median')), # To impute missing values\n",
    "    ('scaler', StandardScaler()),\n",
    "     ])\n",
    "\n",
    "\n",
    "cc = clean_x.fit_transform(x_lasso.drop('y', axis=1))\n",
    "\n",
    "# instatntiate SelectFromModel\n",
    "sfm = SelectFromModel(lasso)\n",
    "\n",
    "sfm.fit(cc, x_lasso.y)\n",
    "\n",
    "#Get number of columns with non-zero coefficients\n",
    "len(x_lasso.drop('y',axis=1).columns[sfm.get_support()])\n",
    "\n"
   ]
  },
  {
   "cell_type": "markdown",
   "metadata": {},
   "source": [
    "No of features dropped from 590 to 207. We will use these features to build the model and compare the performance with model with all features. "
   ]
  },
  {
   "cell_type": "code",
   "execution_count": 284,
   "metadata": {},
   "outputs": [],
   "source": [
    "x1_lasso = x_lasso[list(x_lasso.drop('y',axis=1).columns[sfm.get_support()])]"
   ]
  },
  {
   "cell_type": "code",
   "execution_count": 307,
   "metadata": {
    "scrolled": false
   },
   "outputs": [],
   "source": [
    "pd.Series(x1_lasso.columns).to_csv('columns.csv') # Use the same columns for training and testing"
   ]
  },
  {
   "cell_type": "code",
   "execution_count": 285,
   "metadata": {},
   "outputs": [
    {
     "data": {
      "image/png": "[encoded data removed]",
      "text/plain": [
       "<Figure size 432x288 with 1 Axes>"
      ]
     },
     "metadata": {
      "needs_background": "light"
     },
     "output_type": "display_data"
    }
   ],
   "source": [
    "(x1_lasso.corrwith(y1)\n",
    "     .abs()\n",
    "     .sort_values(ascending = False)\n",
    "     .nlargest(5)\n",
    "     .plot(kind='bar'));"
   ]
  },
  {
   "cell_type": "code",
   "execution_count": null,
   "metadata": {},
   "outputs": [],
   "source": []
  },
  {
   "cell_type": "markdown",
   "metadata": {},
   "source": [
    "#### Identify number components to keep in PCA"
   ]
  },
  {
   "cell_type": "code",
   "execution_count": 286,
   "metadata": {},
   "outputs": [
    {
     "data": {
      "image/png": "[encoded data removed]",
      "text/plain": [
       "<Figure size 432x288 with 1 Axes>"
      ]
     },
     "metadata": {
      "needs_background": "light"
     },
     "output_type": "display_data"
    }
   ],
   "source": [
    "pca1=PCA()\n",
    "\n",
    "\n",
    "clf2 = Pipeline([\n",
    "    ('imputer', SimpleImputer(strategy='median')), # To impute missing values\n",
    "    ('threshold', VarianceThreshold(0.01)), # Remove near-constant features\n",
    "    ('scaler', StandardScaler()),\n",
    "\n",
    "])\n",
    "\n",
    "x_x = clf2.fit_transform(x1)\n",
    "\n",
    "\n",
    "\n",
    "pca1.fit(x_x)\n",
    "v=pca1.explained_variance_\n",
    "plt.plot(np.arange(1,len(v)+1), np.cumsum(v));"
   ]
  },
  {
   "cell_type": "markdown",
   "metadata": {},
   "source": [
    "As can be seen from the plot above, the explained variance levels off after ~200 components. Thus, we can safely keep the first 200 components. This will reduce the number of features from 590 to 200. This matches the number we got from lasso (207). "
   ]
  },
  {
   "cell_type": "markdown",
   "metadata": {},
   "source": [
    "### With all features"
   ]
  },
  {
   "cell_type": "code",
   "execution_count": 287,
   "metadata": {},
   "outputs": [],
   "source": [
    "name = \"lr_all_feats\"\n",
    "\n",
    "clf1 = Pipeline([\n",
    "    ('imputer', SimpleImputer(strategy='median')), # To impute missing values\n",
    "    ('threshold', VarianceThreshold(0.01)), # Remove near-constant features\n",
    "    ('scaler', StandardScaler()),\n",
    "    ('classification', lr)\n",
    "])\n",
    "clf1.fit(x1, y1)\n",
    "\n",
    "score1 = cross_val_score(clf1, X=x1, y=y1, cv=5, scoring = 'roc_auc')\n",
    "\n",
    "result_df = result_df.append({'Classifier':name, 'auc':score1.mean(), 'auc_std':score1.std() }, ignore_index=True)"
   ]
  },
  {
   "cell_type": "code",
   "execution_count": 288,
   "metadata": {},
   "outputs": [
    {
     "data": {
      "text/html": [
       "<div>\n",
       "<style scoped>\n",
       "    .dataframe tbody tr th:only-of-type {\n",
       "        vertical-align: middle;\n",
       "    }\n",
       "\n",
       "    .dataframe tbody tr th {\n",
       "        vertical-align: top;\n",
       "    }\n",
       "\n",
       "    .dataframe thead th {\n",
       "        text-align: right;\n",
       "    }\n",
       "</style>\n",
       "<table border=\"1\" class=\"dataframe\">\n",
       "  <thead>\n",
       "    <tr style=\"text-align: right;\">\n",
       "      <th></th>\n",
       "      <th>Classifier</th>\n",
       "      <th>auc</th>\n",
       "      <th>auc_std</th>\n",
       "    </tr>\n",
       "  </thead>\n",
       "  <tbody>\n",
       "    <tr>\n",
       "      <th>0</th>\n",
       "      <td>lr_all_feats</td>\n",
       "      <td>0.665418</td>\n",
       "      <td>0.072825</td>\n",
       "    </tr>\n",
       "  </tbody>\n",
       "</table>\n",
       "</div>"
      ],
      "text/plain": [
       "     Classifier       auc   auc_std\n",
       "0  lr_all_feats  0.665418  0.072825"
      ]
     },
     "execution_count": 288,
     "metadata": {},
     "output_type": "execute_result"
    }
   ],
   "source": [
    "result_df"
   ]
  },
  {
   "cell_type": "markdown",
   "metadata": {},
   "source": [
    "### With features from Lasso\n",
    "\n",
    "Note that the features were selected using Lasso (l1) while the classification model will be built using Ridge (l2)"
   ]
  },
  {
   "cell_type": "code",
   "execution_count": 289,
   "metadata": {},
   "outputs": [
    {
     "data": {
      "text/html": [
       "<div>\n",
       "<style scoped>\n",
       "    .dataframe tbody tr th:only-of-type {\n",
       "        vertical-align: middle;\n",
       "    }\n",
       "\n",
       "    .dataframe tbody tr th {\n",
       "        vertical-align: top;\n",
       "    }\n",
       "\n",
       "    .dataframe thead th {\n",
       "        text-align: right;\n",
       "    }\n",
       "</style>\n",
       "<table border=\"1\" class=\"dataframe\">\n",
       "  <thead>\n",
       "    <tr style=\"text-align: right;\">\n",
       "      <th></th>\n",
       "      <th>Classifier</th>\n",
       "      <th>auc</th>\n",
       "      <th>auc_std</th>\n",
       "    </tr>\n",
       "  </thead>\n",
       "  <tbody>\n",
       "    <tr>\n",
       "      <th>0</th>\n",
       "      <td>lr_all_feats</td>\n",
       "      <td>0.665418</td>\n",
       "      <td>0.072825</td>\n",
       "    </tr>\n",
       "    <tr>\n",
       "      <th>1</th>\n",
       "      <td>lr_lasso</td>\n",
       "      <td>0.706872</td>\n",
       "      <td>0.062428</td>\n",
       "    </tr>\n",
       "  </tbody>\n",
       "</table>\n",
       "</div>"
      ],
      "text/plain": [
       "     Classifier       auc   auc_std\n",
       "0  lr_all_feats  0.665418  0.072825\n",
       "1      lr_lasso  0.706872  0.062428"
      ]
     },
     "execution_count": 289,
     "metadata": {},
     "output_type": "execute_result"
    }
   ],
   "source": [
    "name = \"lr_lasso\"\n",
    "\n",
    "clf1 = Pipeline([\n",
    "    ('imputer', SimpleImputer(strategy='median')), # To impute missing values\n",
    "    ('threshold', VarianceThreshold(0.01)), # Remove near-constant features\n",
    "    ('scaler', StandardScaler()),\n",
    "    ('classification', lr)\n",
    "])\n",
    "clf1.fit(x1_lasso, y1)\n",
    "\n",
    "score1 = cross_val_score(clf1, X=x1_lasso, y=y1, cv=5, scoring = 'roc_auc')\n",
    "\n",
    "result_df = result_df.append({'Classifier':name, 'auc':score1.mean(), 'auc_std':score1.std() }, ignore_index=True)\n",
    "\n",
    "result_df"
   ]
  },
  {
   "cell_type": "code",
   "execution_count": null,
   "metadata": {},
   "outputs": [],
   "source": []
  },
  {
   "cell_type": "markdown",
   "metadata": {},
   "source": [
    "#### Logistic Regression w/ PCA \n",
    "\n",
    "Using the first 200 components identified from PCA"
   ]
  },
  {
   "cell_type": "code",
   "execution_count": 290,
   "metadata": {},
   "outputs": [
    {
     "data": {
      "text/html": [
       "<div>\n",
       "<style scoped>\n",
       "    .dataframe tbody tr th:only-of-type {\n",
       "        vertical-align: middle;\n",
       "    }\n",
       "\n",
       "    .dataframe tbody tr th {\n",
       "        vertical-align: top;\n",
       "    }\n",
       "\n",
       "    .dataframe thead th {\n",
       "        text-align: right;\n",
       "    }\n",
       "</style>\n",
       "<table border=\"1\" class=\"dataframe\">\n",
       "  <thead>\n",
       "    <tr style=\"text-align: right;\">\n",
       "      <th></th>\n",
       "      <th>Classifier</th>\n",
       "      <th>auc</th>\n",
       "      <th>auc_std</th>\n",
       "    </tr>\n",
       "  </thead>\n",
       "  <tbody>\n",
       "    <tr>\n",
       "      <th>0</th>\n",
       "      <td>lr_all_feats</td>\n",
       "      <td>0.665418</td>\n",
       "      <td>0.072825</td>\n",
       "    </tr>\n",
       "    <tr>\n",
       "      <th>1</th>\n",
       "      <td>lr_lasso</td>\n",
       "      <td>0.706872</td>\n",
       "      <td>0.062428</td>\n",
       "    </tr>\n",
       "    <tr>\n",
       "      <th>2</th>\n",
       "      <td>lr_pca</td>\n",
       "      <td>0.666409</td>\n",
       "      <td>0.073125</td>\n",
       "    </tr>\n",
       "  </tbody>\n",
       "</table>\n",
       "</div>"
      ],
      "text/plain": [
       "     Classifier       auc   auc_std\n",
       "0  lr_all_feats  0.665418  0.072825\n",
       "1      lr_lasso  0.706872  0.062428\n",
       "2        lr_pca  0.666409  0.073125"
      ]
     },
     "execution_count": 290,
     "metadata": {},
     "output_type": "execute_result"
    }
   ],
   "source": [
    "name = \"lr_pca\"\n",
    "\n",
    "clf1 = Pipeline([\n",
    "    ('imputer', SimpleImputer(strategy='median')), # To impute missing values\n",
    "    ('threshold', VarianceThreshold(0.01)), # Remove near-constant features\n",
    "    ('scaler', StandardScaler()),\n",
    "    ('PCA', pca),\n",
    "    ('classification', lr)\n",
    "])\n",
    "clf1.fit(x1, y1)\n",
    "\n",
    "score1 = cross_val_score(clf1, X=x1, y=y1, cv=5, scoring = 'roc_auc')\n",
    "\n",
    "result_df = result_df.append({'Classifier':name, 'auc':score1.mean(), 'auc_std':score1.std() }, ignore_index=True)\n",
    "\n",
    "result_df"
   ]
  },
  {
   "cell_type": "markdown",
   "metadata": {},
   "source": [
    "Using the features identified from lasso improved the AUC significantly. PCA did not show any significant improvement. While we can further apply PCA on the lasso features to reduce the dimentionality, I will leave that as a future exercise. "
   ]
  },
  {
   "cell_type": "markdown",
   "metadata": {},
   "source": [
    "#### SVC w/ Lasso"
   ]
  },
  {
   "cell_type": "code",
   "execution_count": 291,
   "metadata": {},
   "outputs": [
    {
     "data": {
      "text/html": [
       "<div>\n",
       "<style scoped>\n",
       "    .dataframe tbody tr th:only-of-type {\n",
       "        vertical-align: middle;\n",
       "    }\n",
       "\n",
       "    .dataframe tbody tr th {\n",
       "        vertical-align: top;\n",
       "    }\n",
       "\n",
       "    .dataframe thead th {\n",
       "        text-align: right;\n",
       "    }\n",
       "</style>\n",
       "<table border=\"1\" class=\"dataframe\">\n",
       "  <thead>\n",
       "    <tr style=\"text-align: right;\">\n",
       "      <th></th>\n",
       "      <th>Classifier</th>\n",
       "      <th>auc</th>\n",
       "      <th>auc_std</th>\n",
       "    </tr>\n",
       "  </thead>\n",
       "  <tbody>\n",
       "    <tr>\n",
       "      <th>0</th>\n",
       "      <td>lr_all_feats</td>\n",
       "      <td>0.665418</td>\n",
       "      <td>0.072825</td>\n",
       "    </tr>\n",
       "    <tr>\n",
       "      <th>1</th>\n",
       "      <td>lr_lasso</td>\n",
       "      <td>0.706872</td>\n",
       "      <td>0.062428</td>\n",
       "    </tr>\n",
       "    <tr>\n",
       "      <th>2</th>\n",
       "      <td>lr_pca</td>\n",
       "      <td>0.666409</td>\n",
       "      <td>0.073125</td>\n",
       "    </tr>\n",
       "    <tr>\n",
       "      <th>3</th>\n",
       "      <td>svc</td>\n",
       "      <td>0.718400</td>\n",
       "      <td>0.057257</td>\n",
       "    </tr>\n",
       "  </tbody>\n",
       "</table>\n",
       "</div>"
      ],
      "text/plain": [
       "     Classifier       auc   auc_std\n",
       "0  lr_all_feats  0.665418  0.072825\n",
       "1      lr_lasso  0.706872  0.062428\n",
       "2        lr_pca  0.666409  0.073125\n",
       "3           svc  0.718400  0.057257"
      ]
     },
     "execution_count": 291,
     "metadata": {},
     "output_type": "execute_result"
    }
   ],
   "source": [
    "name = \"svc\"\n",
    "\n",
    "clf2 = Pipeline([\n",
    "    ('imputer', SimpleImputer(strategy='median')), # To impute missing values\n",
    "    ('threshold', VarianceThreshold(0.01)), # Remove near-constant features\n",
    "    ('scaler', StandardScaler()),\n",
    "    ('classification', svc)\n",
    "])\n",
    "clf2.fit(x1_lasso, y1)\n",
    "\n",
    "score2 = cross_val_score(clf2, X=x1_lasso, y=y1, cv=5, scoring = 'roc_auc')\n",
    "\n",
    "result_df = result_df.append({'Classifier':name , 'auc':score2.mean(), 'auc_std':score2.std() }, ignore_index=True)\n",
    "\n",
    "result_df"
   ]
  },
  {
   "cell_type": "markdown",
   "metadata": {},
   "source": [
    "#### Ridge Classifier"
   ]
  },
  {
   "cell_type": "code",
   "execution_count": 292,
   "metadata": {},
   "outputs": [
    {
     "data": {
      "text/html": [
       "<div>\n",
       "<style scoped>\n",
       "    .dataframe tbody tr th:only-of-type {\n",
       "        vertical-align: middle;\n",
       "    }\n",
       "\n",
       "    .dataframe tbody tr th {\n",
       "        vertical-align: top;\n",
       "    }\n",
       "\n",
       "    .dataframe thead th {\n",
       "        text-align: right;\n",
       "    }\n",
       "</style>\n",
       "<table border=\"1\" class=\"dataframe\">\n",
       "  <thead>\n",
       "    <tr style=\"text-align: right;\">\n",
       "      <th></th>\n",
       "      <th>Classifier</th>\n",
       "      <th>auc</th>\n",
       "      <th>auc_std</th>\n",
       "    </tr>\n",
       "  </thead>\n",
       "  <tbody>\n",
       "    <tr>\n",
       "      <th>0</th>\n",
       "      <td>lr_all_feats</td>\n",
       "      <td>0.665418</td>\n",
       "      <td>0.072825</td>\n",
       "    </tr>\n",
       "    <tr>\n",
       "      <th>1</th>\n",
       "      <td>lr_lasso</td>\n",
       "      <td>0.706872</td>\n",
       "      <td>0.062428</td>\n",
       "    </tr>\n",
       "    <tr>\n",
       "      <th>2</th>\n",
       "      <td>lr_pca</td>\n",
       "      <td>0.666409</td>\n",
       "      <td>0.073125</td>\n",
       "    </tr>\n",
       "    <tr>\n",
       "      <th>3</th>\n",
       "      <td>svc</td>\n",
       "      <td>0.718400</td>\n",
       "      <td>0.057257</td>\n",
       "    </tr>\n",
       "    <tr>\n",
       "      <th>4</th>\n",
       "      <td>ridge</td>\n",
       "      <td>0.690443</td>\n",
       "      <td>0.040206</td>\n",
       "    </tr>\n",
       "  </tbody>\n",
       "</table>\n",
       "</div>"
      ],
      "text/plain": [
       "     Classifier       auc   auc_std\n",
       "0  lr_all_feats  0.665418  0.072825\n",
       "1      lr_lasso  0.706872  0.062428\n",
       "2        lr_pca  0.666409  0.073125\n",
       "3           svc  0.718400  0.057257\n",
       "4         ridge  0.690443  0.040206"
      ]
     },
     "execution_count": 292,
     "metadata": {},
     "output_type": "execute_result"
    }
   ],
   "source": [
    "name = \"ridge\"\n",
    "\n",
    "clf2 = Pipeline([\n",
    "    ('imputer', SimpleImputer(strategy='median')), # To impute missing values\n",
    "    ('threshold', VarianceThreshold(0.01)), # Remove near-constant features\n",
    "    ('scaler', StandardScaler()),\n",
    "    ('classification', ridge)\n",
    "])\n",
    "clf2.fit(x1_lasso, y1)\n",
    "\n",
    "score2 = cross_val_score(clf2, X=x1_lasso, y=y1, cv=5, scoring = 'roc_auc')\n",
    "\n",
    "result_df = result_df.append({'Classifier':name , 'auc':score2.mean(), 'auc_std':score2.std() }, ignore_index=True)\n",
    "\n",
    "result_df"
   ]
  },
  {
   "cell_type": "markdown",
   "metadata": {},
   "source": [
    "#### RandomForest"
   ]
  },
  {
   "cell_type": "code",
   "execution_count": 293,
   "metadata": {},
   "outputs": [
    {
     "data": {
      "text/html": [
       "<div>\n",
       "<style scoped>\n",
       "    .dataframe tbody tr th:only-of-type {\n",
       "        vertical-align: middle;\n",
       "    }\n",
       "\n",
       "    .dataframe tbody tr th {\n",
       "        vertical-align: top;\n",
       "    }\n",
       "\n",
       "    .dataframe thead th {\n",
       "        text-align: right;\n",
       "    }\n",
       "</style>\n",
       "<table border=\"1\" class=\"dataframe\">\n",
       "  <thead>\n",
       "    <tr style=\"text-align: right;\">\n",
       "      <th></th>\n",
       "      <th>Classifier</th>\n",
       "      <th>auc</th>\n",
       "      <th>auc_std</th>\n",
       "    </tr>\n",
       "  </thead>\n",
       "  <tbody>\n",
       "    <tr>\n",
       "      <th>0</th>\n",
       "      <td>lr_all_feats</td>\n",
       "      <td>0.665418</td>\n",
       "      <td>0.072825</td>\n",
       "    </tr>\n",
       "    <tr>\n",
       "      <th>1</th>\n",
       "      <td>lr_lasso</td>\n",
       "      <td>0.706872</td>\n",
       "      <td>0.062428</td>\n",
       "    </tr>\n",
       "    <tr>\n",
       "      <th>2</th>\n",
       "      <td>lr_pca</td>\n",
       "      <td>0.666409</td>\n",
       "      <td>0.073125</td>\n",
       "    </tr>\n",
       "    <tr>\n",
       "      <th>3</th>\n",
       "      <td>svc</td>\n",
       "      <td>0.718400</td>\n",
       "      <td>0.057257</td>\n",
       "    </tr>\n",
       "    <tr>\n",
       "      <th>4</th>\n",
       "      <td>ridge</td>\n",
       "      <td>0.690443</td>\n",
       "      <td>0.040206</td>\n",
       "    </tr>\n",
       "    <tr>\n",
       "      <th>5</th>\n",
       "      <td>rf</td>\n",
       "      <td>0.623702</td>\n",
       "      <td>0.073406</td>\n",
       "    </tr>\n",
       "  </tbody>\n",
       "</table>\n",
       "</div>"
      ],
      "text/plain": [
       "     Classifier       auc   auc_std\n",
       "0  lr_all_feats  0.665418  0.072825\n",
       "1      lr_lasso  0.706872  0.062428\n",
       "2        lr_pca  0.666409  0.073125\n",
       "3           svc  0.718400  0.057257\n",
       "4         ridge  0.690443  0.040206\n",
       "5            rf  0.623702  0.073406"
      ]
     },
     "execution_count": 293,
     "metadata": {},
     "output_type": "execute_result"
    }
   ],
   "source": [
    "name = \"rf\"\n",
    "\n",
    "clf2 = Pipeline([\n",
    "    ('imputer', SimpleImputer(strategy='median')), # To impute missing values\n",
    "    ('threshold', VarianceThreshold(0.01)), # Remove near-constant features\n",
    "    ('scaler', StandardScaler()),\n",
    "    ('classification', rf)\n",
    "])\n",
    "clf2.fit(x1_lasso, y1)\n",
    "\n",
    "score2 = cross_val_score(clf2, X=x1_lasso, y=y1, cv=5, scoring = 'roc_auc')\n",
    "\n",
    "result_df = result_df.append({'Classifier':name , 'auc':score2.mean(), 'auc_std':score2.std() }, ignore_index=True)\n",
    "\n",
    "result_df"
   ]
  },
  {
   "cell_type": "code",
   "execution_count": 298,
   "metadata": {},
   "outputs": [],
   "source": [
    "#### Gradient Boosting Classifier"
   ]
  },
  {
   "cell_type": "code",
   "execution_count": 294,
   "metadata": {},
   "outputs": [
    {
     "data": {
      "text/html": [
       "<div>\n",
       "<style scoped>\n",
       "    .dataframe tbody tr th:only-of-type {\n",
       "        vertical-align: middle;\n",
       "    }\n",
       "\n",
       "    .dataframe tbody tr th {\n",
       "        vertical-align: top;\n",
       "    }\n",
       "\n",
       "    .dataframe thead th {\n",
       "        text-align: right;\n",
       "    }\n",
       "</style>\n",
       "<table border=\"1\" class=\"dataframe\">\n",
       "  <thead>\n",
       "    <tr style=\"text-align: right;\">\n",
       "      <th></th>\n",
       "      <th>Classifier</th>\n",
       "      <th>auc</th>\n",
       "      <th>auc_std</th>\n",
       "    </tr>\n",
       "  </thead>\n",
       "  <tbody>\n",
       "    <tr>\n",
       "      <th>0</th>\n",
       "      <td>lr_all_feats</td>\n",
       "      <td>0.665418</td>\n",
       "      <td>0.072825</td>\n",
       "    </tr>\n",
       "    <tr>\n",
       "      <th>1</th>\n",
       "      <td>lr_lasso</td>\n",
       "      <td>0.706872</td>\n",
       "      <td>0.062428</td>\n",
       "    </tr>\n",
       "    <tr>\n",
       "      <th>2</th>\n",
       "      <td>lr_pca</td>\n",
       "      <td>0.666409</td>\n",
       "      <td>0.073125</td>\n",
       "    </tr>\n",
       "    <tr>\n",
       "      <th>3</th>\n",
       "      <td>svc</td>\n",
       "      <td>0.718400</td>\n",
       "      <td>0.057257</td>\n",
       "    </tr>\n",
       "    <tr>\n",
       "      <th>4</th>\n",
       "      <td>ridge</td>\n",
       "      <td>0.690443</td>\n",
       "      <td>0.040206</td>\n",
       "    </tr>\n",
       "    <tr>\n",
       "      <th>5</th>\n",
       "      <td>rf</td>\n",
       "      <td>0.623702</td>\n",
       "      <td>0.073406</td>\n",
       "    </tr>\n",
       "    <tr>\n",
       "      <th>6</th>\n",
       "      <td>GBC</td>\n",
       "      <td>0.736216</td>\n",
       "      <td>0.047257</td>\n",
       "    </tr>\n",
       "  </tbody>\n",
       "</table>\n",
       "</div>"
      ],
      "text/plain": [
       "     Classifier       auc   auc_std\n",
       "0  lr_all_feats  0.665418  0.072825\n",
       "1      lr_lasso  0.706872  0.062428\n",
       "2        lr_pca  0.666409  0.073125\n",
       "3           svc  0.718400  0.057257\n",
       "4         ridge  0.690443  0.040206\n",
       "5            rf  0.623702  0.073406\n",
       "6           GBC  0.736216  0.047257"
      ]
     },
     "execution_count": 294,
     "metadata": {},
     "output_type": "execute_result"
    }
   ],
   "source": [
    "name = \"GBC\"\n",
    "\n",
    "clf2 = Pipeline([\n",
    "    ('imputer', SimpleImputer(strategy='median')), # To impute missing values\n",
    "    ('threshold', VarianceThreshold(0.01)), # Remove near-constant features\n",
    "    ('scaler', StandardScaler()),\n",
    "    ('classification', gbc)\n",
    "])\n",
    "clf2.fit(x1_lasso, y1)\n",
    "\n",
    "score2 = cross_val_score(clf2, X=x1_lasso, y=y1, cv=5, scoring = 'roc_auc')\n",
    "\n",
    "result_df = result_df.append({'Classifier':name , 'auc':score2.mean(), 'auc_std':score2.std() }, ignore_index=True)\n",
    "\n",
    "result_df"
   ]
  },
  {
   "cell_type": "markdown",
   "metadata": {},
   "source": [
    "#### VotingClassifier Ensemble"
   ]
  },
  {
   "cell_type": "code",
   "execution_count": 295,
   "metadata": {
    "scrolled": false
   },
   "outputs": [
    {
     "data": {
      "text/html": [
       "<div>\n",
       "<style scoped>\n",
       "    .dataframe tbody tr th:only-of-type {\n",
       "        vertical-align: middle;\n",
       "    }\n",
       "\n",
       "    .dataframe tbody tr th {\n",
       "        vertical-align: top;\n",
       "    }\n",
       "\n",
       "    .dataframe thead th {\n",
       "        text-align: right;\n",
       "    }\n",
       "</style>\n",
       "<table border=\"1\" class=\"dataframe\">\n",
       "  <thead>\n",
       "    <tr style=\"text-align: right;\">\n",
       "      <th></th>\n",
       "      <th>Classifier</th>\n",
       "      <th>auc</th>\n",
       "      <th>auc_std</th>\n",
       "    </tr>\n",
       "  </thead>\n",
       "  <tbody>\n",
       "    <tr>\n",
       "      <th>0</th>\n",
       "      <td>lr_all_feats</td>\n",
       "      <td>0.665418</td>\n",
       "      <td>0.072825</td>\n",
       "    </tr>\n",
       "    <tr>\n",
       "      <th>1</th>\n",
       "      <td>lr_lasso</td>\n",
       "      <td>0.706872</td>\n",
       "      <td>0.062428</td>\n",
       "    </tr>\n",
       "    <tr>\n",
       "      <th>2</th>\n",
       "      <td>lr_pca</td>\n",
       "      <td>0.666409</td>\n",
       "      <td>0.073125</td>\n",
       "    </tr>\n",
       "    <tr>\n",
       "      <th>3</th>\n",
       "      <td>svc</td>\n",
       "      <td>0.718400</td>\n",
       "      <td>0.057257</td>\n",
       "    </tr>\n",
       "    <tr>\n",
       "      <th>4</th>\n",
       "      <td>ridge</td>\n",
       "      <td>0.690443</td>\n",
       "      <td>0.040206</td>\n",
       "    </tr>\n",
       "    <tr>\n",
       "      <th>5</th>\n",
       "      <td>rf</td>\n",
       "      <td>0.623702</td>\n",
       "      <td>0.073406</td>\n",
       "    </tr>\n",
       "    <tr>\n",
       "      <th>6</th>\n",
       "      <td>GBC</td>\n",
       "      <td>0.736216</td>\n",
       "      <td>0.047257</td>\n",
       "    </tr>\n",
       "    <tr>\n",
       "      <th>7</th>\n",
       "      <td>voting</td>\n",
       "      <td>0.755485</td>\n",
       "      <td>0.021889</td>\n",
       "    </tr>\n",
       "  </tbody>\n",
       "</table>\n",
       "</div>"
      ],
      "text/plain": [
       "     Classifier       auc   auc_std\n",
       "0  lr_all_feats  0.665418  0.072825\n",
       "1      lr_lasso  0.706872  0.062428\n",
       "2        lr_pca  0.666409  0.073125\n",
       "3           svc  0.718400  0.057257\n",
       "4         ridge  0.690443  0.040206\n",
       "5            rf  0.623702  0.073406\n",
       "6           GBC  0.736216  0.047257\n",
       "7        voting  0.755485  0.021889"
      ]
     },
     "execution_count": 295,
     "metadata": {},
     "output_type": "execute_result"
    }
   ],
   "source": [
    "name = \"voting\"\n",
    "\n",
    "lr = LogisticRegression(random_state=seed)\n",
    "rf = RandomForestClassifier(random_state=seed)\n",
    "svc = SVC(random_state=seed, probability=True)\n",
    "lgbm = LGBMClassifier(objectibe='binary', random_state=seed)\n",
    "ridge1 = RidgeClassifier(random_state=seed)\n",
    "\n",
    "\n",
    "\n",
    "stack = [('svc',svc), ('gbc',gbc), ('lr',lr), ('rf',rf)]\n",
    "\n",
    "voting = VotingClassifier(stack, voting='soft')\n",
    "\n",
    "\n",
    "clf2 = Pipeline([\n",
    "    ('imputer', SimpleImputer(strategy='median')), # To impute missing values\n",
    "    ('threshold', VarianceThreshold(0.01)), # Remove near-constant features\n",
    "    ('scaler', StandardScaler()),\n",
    "    ('classification', voting)\n",
    "])\n",
    "clf2.fit(x1_lasso, y1)\n",
    "\n",
    "score2 = cross_val_score(clf2, X=x1_lasso, y=y1, cv=5, scoring = 'roc_auc')\n",
    "\n",
    "result_df = result_df.append({'Classifier':name , 'auc':score2.mean(), 'auc_std':score2.std() }, ignore_index=True)\n",
    "\n",
    "result_df\n",
    "\n"
   ]
  },
  {
   "cell_type": "markdown",
   "metadata": {},
   "source": [
    "#### Stacking Ensemble"
   ]
  },
  {
   "cell_type": "code",
   "execution_count": 296,
   "metadata": {},
   "outputs": [
    {
     "data": {
      "text/html": [
       "<div>\n",
       "<style scoped>\n",
       "    .dataframe tbody tr th:only-of-type {\n",
       "        vertical-align: middle;\n",
       "    }\n",
       "\n",
       "    .dataframe tbody tr th {\n",
       "        vertical-align: top;\n",
       "    }\n",
       "\n",
       "    .dataframe thead th {\n",
       "        text-align: right;\n",
       "    }\n",
       "</style>\n",
       "<table border=\"1\" class=\"dataframe\">\n",
       "  <thead>\n",
       "    <tr style=\"text-align: right;\">\n",
       "      <th></th>\n",
       "      <th>Classifier</th>\n",
       "      <th>auc</th>\n",
       "      <th>auc_std</th>\n",
       "    </tr>\n",
       "  </thead>\n",
       "  <tbody>\n",
       "    <tr>\n",
       "      <th>0</th>\n",
       "      <td>lr_all_feats</td>\n",
       "      <td>0.665418</td>\n",
       "      <td>0.072825</td>\n",
       "    </tr>\n",
       "    <tr>\n",
       "      <th>1</th>\n",
       "      <td>lr_lasso</td>\n",
       "      <td>0.706872</td>\n",
       "      <td>0.062428</td>\n",
       "    </tr>\n",
       "    <tr>\n",
       "      <th>2</th>\n",
       "      <td>lr_pca</td>\n",
       "      <td>0.666409</td>\n",
       "      <td>0.073125</td>\n",
       "    </tr>\n",
       "    <tr>\n",
       "      <th>3</th>\n",
       "      <td>svc</td>\n",
       "      <td>0.718400</td>\n",
       "      <td>0.057257</td>\n",
       "    </tr>\n",
       "    <tr>\n",
       "      <th>4</th>\n",
       "      <td>ridge</td>\n",
       "      <td>0.690443</td>\n",
       "      <td>0.040206</td>\n",
       "    </tr>\n",
       "    <tr>\n",
       "      <th>5</th>\n",
       "      <td>rf</td>\n",
       "      <td>0.623702</td>\n",
       "      <td>0.073406</td>\n",
       "    </tr>\n",
       "    <tr>\n",
       "      <th>6</th>\n",
       "      <td>GBC</td>\n",
       "      <td>0.736216</td>\n",
       "      <td>0.047257</td>\n",
       "    </tr>\n",
       "    <tr>\n",
       "      <th>7</th>\n",
       "      <td>voting</td>\n",
       "      <td>0.755485</td>\n",
       "      <td>0.021889</td>\n",
       "    </tr>\n",
       "    <tr>\n",
       "      <th>8</th>\n",
       "      <td>stacking</td>\n",
       "      <td>0.750265</td>\n",
       "      <td>0.032722</td>\n",
       "    </tr>\n",
       "  </tbody>\n",
       "</table>\n",
       "</div>"
      ],
      "text/plain": [
       "     Classifier       auc   auc_std\n",
       "0  lr_all_feats  0.665418  0.072825\n",
       "1      lr_lasso  0.706872  0.062428\n",
       "2        lr_pca  0.666409  0.073125\n",
       "3           svc  0.718400  0.057257\n",
       "4         ridge  0.690443  0.040206\n",
       "5            rf  0.623702  0.073406\n",
       "6           GBC  0.736216  0.047257\n",
       "7        voting  0.755485  0.021889\n",
       "8      stacking  0.750265  0.032722"
      ]
     },
     "execution_count": 296,
     "metadata": {},
     "output_type": "execute_result"
    }
   ],
   "source": [
    "name = \"stacking\"\n",
    "\n",
    "stack = [('svc',svc), ('gbc',gbc), ('lr',lr), ('rf',rf)]\n",
    "\n",
    "stacking = StackingClassifier(stack, final_estimator=LogisticRegression())\n",
    "\n",
    "\n",
    "clf2 = Pipeline([\n",
    "    ('imputer', SimpleImputer(strategy='median')), # To impute missing values\n",
    "    ('threshold', VarianceThreshold(0.01)), # Remove near-constant features\n",
    "    ('scaler', StandardScaler()),\n",
    "    ('classification', stacking)\n",
    "])\n",
    "clf2.fit(x1_lasso, y1)\n",
    "\n",
    "score2 = cross_val_score(clf2, X=x1_lasso, y=y1, cv=5, scoring = 'roc_auc')\n",
    "\n",
    "result_df = result_df.append({'Classifier':name , 'auc':score2.mean(), 'auc_std':score2.std() }, ignore_index=True)\n",
    "\n",
    "result_df"
   ]
  },
  {
   "cell_type": "code",
   "execution_count": 297,
   "metadata": {},
   "outputs": [
    {
     "data": {
      "image/png": "[encoded data removed]",
      "text/plain": [
       "<Figure size 432x288 with 1 Axes>"
      ]
     },
     "metadata": {
      "needs_background": "light"
     },
     "output_type": "display_data"
    }
   ],
   "source": [
    "plt.errorbar(result_df.Classifier, result_df.auc, yerr=result_df.auc_std/2, ecolor = 'r',);"
   ]
  },
  {
   "cell_type": "markdown",
   "metadata": {},
   "source": [
    "## Observations:\n",
    "\n",
    "1. Reducing the number of features from 590 to 207, improved the AUC. Half of the features were just noise.\n",
    "2. PCA did not improve the results compared to using all the features or using the non-zero lasso features\n",
    "3. Voting Classifier performed significantly better on AUC than any other classifier, followed by stacking\n",
    "4. The individual best classifier was Gradient Boosting Classifier\n",
    "5. Voting and stacking did significantly better despite not using `class_weight` argument. Scikit-learn does not allow using class weights with voting and stacking, it's a bug.  \n",
    "6. Voting classifier also has the lowest variance across the 5 folds, thus we can expect it to do well on the test set.\n",
    "7. I will use Azure ML Hyperdrive to tune the voting classifier\n"
   ]
  },
  {
   "cell_type": "code",
   "execution_count": null,
   "metadata": {},
   "outputs": [],
   "source": [
    "name = \"voting\"\n",
    "\n",
    "lr = LogisticRegression(random_state=seed)\n",
    "rf = RandomForestClassifier(random_state=seed)\n",
    "svc = SVC(random_state=seed, probability=True)\n",
    "lgbm = LGBMClassifier(objectibe='binary', random_state=seed)\n",
    "ridge1 = RidgeClassifier(random_state=seed)\n",
    "\n",
    "\n",
    "\n",
    "stack = [('svc',svc), ('gbc',gbc), ('lr',lr), ('rf',rf)]\n",
    "\n",
    "voting = VotingClassifier(stack, voting='soft')\n",
    "\n",
    "\n",
    "clf2 = Pipeline([\n",
    "    ('imputer', SimpleImputer(strategy='median')), # To impute missing values\n",
    "    ('threshold', VarianceThreshold(0.01)), # Remove near-constant features\n",
    "    ('scaler', StandardScaler()),\n",
    "    ('classification', voting)\n",
    "])\n",
    "clf2.fit(x1_lasso, y1)\n",
    "\n",
    "score2 = cross_val_score(clf2, X=x1_lasso, y=y1, cv=5, scoring = 'roc_auc')\n",
    "\n",
    "result_df = result_df.append({'Classifier':name , 'auc':score2.mean(), 'auc_std':score2.std() }, ignore_index=True)\n",
    "\n",
    "result_df"
   ]
  },
  {
   "cell_type": "markdown",
   "metadata": {},
   "source": [
    "## Hyperparameter Tuning the Voting Classifier\n",
    "\n",
    "1. We will tune the parameters for each of the individual classifiers in the ensemble\n",
    "2. Considering we have so many parameters to choose, we can either use Random Sampling or Bayesian Sampling. \n",
    "3. Bayesian sampling should work better/faster as it converges to the optimal solution\n",
    "4. Downside with Baysian sampling is that it does not have early stopping policy so it may take very long to converge. \n",
    "5. Remote compute can scale easily to allow for parallel sampling"
   ]
  },
  {
   "cell_type": "markdown",
   "metadata": {},
   "source": [
    "# Create train.py"
   ]
  },
  {
   "cell_type": "code",
   "execution_count": 315,
   "metadata": {},
   "outputs": [
    {
     "name": "stdout",
     "output_type": "stream",
     "text": [
      "Overwriting train.py\n"
     ]
    }
   ],
   "source": [
    "%%writefile train.py\n",
    "\n",
    "'''\n",
    "\n",
    "Training script for Udacity Project 3\n",
    "Sandeep Pawar\n",
    "Ver 1\n",
    "Date Jan 25, 2021\n",
    "\n",
    "'''\n",
    "import numpy as np\n",
    "import pandas as pd\n",
    "\n",
    "from sklearn.model_selection import train_test_split\n",
    "from sklearn.linear_model import LogisticRegression\n",
    "from sklearn.impute import SimpleImputer\n",
    "\n",
    "from sklearn.feature_selection import VarianceThreshold\n",
    "from sklearn.pipeline import Pipeline\n",
    "from sklearn.metrics import roc_auc_score\n",
    "from sklearn.ensemble import RandomForestClassifier, GradientBoostingClassifier, VotingClassifier\n",
    "\n",
    "from sklearn.preprocessing import StandardScaler\n",
    "from sklearn.svm import SVC\n",
    "from sklearn.model_selection import cross_val_score\n",
    "\n",
    "\n",
    "from azureml.core import Workspace, Experiment\n",
    "\n",
    "# from azureml.widgets import RunDetails\n",
    "from azureml.train.sklearn import SKLearn\n",
    "from azureml.train.hyperdrive.run import PrimaryMetricGoal\n",
    "from azureml.train.hyperdrive.policy import BanditPolicy\n",
    "from azureml.train.hyperdrive.sampling import BayesianParameterSampling\n",
    "from azureml.train.hyperdrive.runconfig import HyperDriveConfig\n",
    "from azureml.train.hyperdrive.parameter_expressions import choice\n",
    "from azureml.data.dataset_factory import TabularDatasetFactory\n",
    "from azureml.widgets import RunDetails\n",
    "from azureml.train.automl import AutoMLConfig\n",
    "from azureml.core.compute import ComputeTarget, AmlCompute\n",
    "from azureml.core import ScriptRunConfig\n",
    "from azureml.core import Workspace, Environment\n",
    "import argparse\n",
    "from azureml.core.run import Run\n",
    "import joblib\n",
    "\n",
    "import os\n",
    "\n",
    "\n",
    "\n",
    "seed = 123\n",
    "\n",
    "\n",
    "import warnings\n",
    "warnings.filterwarnings(\"ignore\")\n",
    "run = Run.get_context()\n",
    "\n",
    "\n",
    "\n",
    "def load_data(train_df):\n",
    "    \n",
    "    # Load data with all the columns from the source\n",
    "    # x is teh training data\n",
    "    # y is the label for the training data\n",
    "    \n",
    "    path = 'https://raw.githubusercontent.com/sapawar4/datasets/main/datasets/SECOM/columns.csv'\n",
    "    column_list = (list(pd.read_csv(path)\n",
    "                    .iloc[:,1]\n",
    "                    .values))\n",
    "    \n",
    "    \n",
    "    x = train_df.drop('y', axis=1)\n",
    "    \n",
    "    y = train_df['y'] \n",
    "    \n",
    "    x = x[column_list]\n",
    "    \n",
    "    return x, y \n",
    "\n",
    "dataframe = pd.read_csv(\"https://raw.githubusercontent.com/sapawar4/datasets/main/datasets/SECOM/x_train.csv\")\n",
    "\n",
    "x, y = load_data(dataframe)\n",
    "\n",
    "def main():\n",
    "    \n",
    "    parser = argparse.ArgumentParser()\n",
    "    \n",
    "    parser.add_argument('--voting', type=str, default='soft', help=\"Voting Type\")\n",
    "    parser.add_argument('--rfnest', type=int, default=100, help=\"rf_n_estimators\")\n",
    "#     parser.add_argument('--gamma', type=str, default='auto', help=\"Gamma value\")\n",
    "#     parser.add_argument('--penalty', type=float, default=1, help=\"Penalty\")\n",
    "\n",
    "    args = parser.parse_args()\n",
    "\n",
    "    run.log(\"voting:\", str(args.voting))\n",
    "    run.log(\"rf_n_est:\", int(args.rfnest))\n",
    "#     run.log(\"Gamma:\", str(args.gamma))\n",
    "#     run.log(\"penalty:\", str(args.penalty))\n",
    "    \n",
    "    lr = LogisticRegression(random_state=seed)\n",
    "    rf = RandomForestClassifier(random_state=seed, n_estimators = rfnest)\n",
    "    svc = SVC(random_state=seed, probability=True)\n",
    "    lgbm = LGBMClassifier(objectibe='binary', random_state=seed)\n",
    "    ridge1 = RidgeClassifier(random_state=seed)\n",
    "\n",
    "\n",
    "\n",
    "    stack = [('svc',svc), ('gbc',gbc), ('lr',lr), ('rf',rf)]\n",
    "\n",
    "    voting = VotingClassifier(stack, voting=voting)\n",
    "\n",
    "\n",
    "    clf = Pipeline([\n",
    "        ('imputer', SimpleImputer(strategy='median')), # To impute missing values\n",
    "        ('threshold', VarianceThreshold(0.01)), # Remove near-constant features\n",
    "        ('scaler', StandardScaler()),\n",
    "        ('classification', voting)\n",
    "    ])\n",
    "    clf.fit(x, y)\n",
    "\n",
    "    score = cross_val_score(clf, X=x, y=y, cv=5, scoring = 'roc_auc')\n",
    "        \n",
    "    \n",
    "    run.log(\"Mean_AUC\", np.float( score.mean()))\n",
    "\n",
    "    #Serialize the model\n",
    "    os.makedirs('outputs', exist_ok=True)\n",
    "    joblib.dump(clf, 'outputs/hyperDrive_{}_{}'.format(args.voting,args.rfnest))\n",
    "\n",
    "if __name__ == '__main__':\n",
    "    main()"
   ]
  },
  {
   "cell_type": "markdown",
   "metadata": {},
   "source": [
    "# Create Azure ML Hyperdrive"
   ]
  },
  {
   "cell_type": "markdown",
   "metadata": {},
   "source": [
    "### Define Azure Workspace & Compute"
   ]
  },
  {
   "cell_type": "code",
   "execution_count": 317,
   "metadata": {},
   "outputs": [
    {
     "name": "stdout",
     "output_type": "stream",
     "text": [
      "/subscriptions/b968fb36-f06a-4c76-a15f-afab68ae7667/resourceGroups/aml-quickstarts-136205/providers/Microsoft.MachineLearningServices/workspaces/quick-starts-ws-136205\n",
      "DS2V2 exists already\n",
      "\n",
      "Running\n"
     ]
    }
   ],
   "source": [
    "ws =Workspace.from_config()\n",
    "exp = Experiment(workspace=ws, name=\"Project3\")\n",
    "\n",
    "print(ws.get_details()['id'])\n",
    "\n",
    "compute_name = \"DS2V2\"\n",
    "\n",
    "\n",
    "\n",
    "try:\n",
    "    vm = ComputeTarget(ws, compute_name)\n",
    "    print(f\"{compute_name} exists already\")\n",
    "except:\n",
    "    compute_config = AmlCompute.provisioning_configuration(vm_size=\"Standard_D2_V2\", max_nodes=4)\n",
    "    vm = ComputeTarget.create(ws, compute_name, compute_config)\n",
    "    \n",
    "vm.wait_for_completion(show_output=True)"
   ]
  },
  {
   "cell_type": "markdown",
   "metadata": {},
   "source": [
    "### Define Hyperdrive Config"
   ]
  },
  {
   "cell_type": "code",
   "execution_count": 320,
   "metadata": {},
   "outputs": [],
   "source": [
    "# Specify parameter sampler\n",
    "\n",
    "\n",
    "\n",
    "param_space = { \n",
    "                                    \"--voting\"     : choice('hard', 'soft'), \n",
    "                                    \"--rfnest\"     : choice(100,250,500,1000),\n",
    "#                                     \"--gamma\"      : choice(\"auto\",\"scale\"),\n",
    "#                                     \"--penalty\"    : choice(0.01,1,10,15, 20,50,75,100)  \n",
    "                                    \n",
    "              }\n",
    "\n",
    "sampling = BayesianParameterSampling(param_space)\n",
    "\n",
    "# Specifying Bandit Policy. \n",
    "# ROC will be evaluated at every run, starting from 21st run. \n",
    "# If the performance in the successive runs is below 91% of the best performing run, HPO will be stopped\n",
    "\n",
    "\n",
    "policy = None #BanditPolicy(evaluation_interval=1, slack_factor=0.1, delay_evaluation=20)\n",
    "\n",
    "\n",
    "if \"training\" not in os.listdir():\n",
    "    os.mkdir(\"./training\")\n",
    "import shutil\n",
    "shutil.copy('train.py', './training')\n",
    "    \n",
    "#Create a SKLearn estimator for use with train.py\n",
    "est = SKLearn(source_directory='./training', \n",
    "              compute_target=vm, \n",
    "              entry_script='train.py')\n",
    "\n",
    "\n",
    "\n",
    "# env = Environment.get(workspace=ws, name=\"AzureML-Minimal\")\n",
    "\n",
    "# src = ScriptRunConfig(source_directory='./training',\n",
    "#                       script='train.py',\n",
    "#                       compute_target=vm,\n",
    "#                       environment=env)                                \n",
    "\n",
    "# Create a HyperDriveConfig using the estimator, hyperparameter sampler, and policy.\n",
    "hyperdrive_config = HyperDriveConfig(estimator=src, \n",
    "                                     policy=policy, \n",
    "                                     primary_metric_name=\"Mean_AUC\",\n",
    "                                     hyperparameter_sampling=sampling,\n",
    "                                     max_total_runs=200,\n",
    "                                     max_duration_minutes=60,\n",
    "                                     primary_metric_goal=PrimaryMetricGoal.MAXIMIZE)"
   ]
  },
  {
   "cell_type": "code",
   "execution_count": 321,
   "metadata": {},
   "outputs": [
    {
     "ename": "AttributeError",
     "evalue": "'ScriptRunConfig' object has no attribute '_compute_target'",
     "output_type": "error",
     "traceback": [
      "\u001b[1;31m---------------------------------------------------------------------------\u001b[0m",
      "\u001b[1;31mAttributeError\u001b[0m                            Traceback (most recent call last)",
      "\u001b[1;32m<ipython-input-321-04bb35deb3e0>\u001b[0m in \u001b[0;36m<module>\u001b[1;34m\u001b[0m\n\u001b[1;32m----> 1\u001b[1;33m \u001b[0mhpo\u001b[0m \u001b[1;33m=\u001b[0m \u001b[0mexp\u001b[0m\u001b[1;33m.\u001b[0m\u001b[0msubmit\u001b[0m\u001b[1;33m(\u001b[0m\u001b[0mhyperdrive_config\u001b[0m\u001b[1;33m)\u001b[0m\u001b[1;33m\u001b[0m\u001b[1;33m\u001b[0m\u001b[0m\n\u001b[0m\u001b[0;32m      2\u001b[0m \u001b[0mRunDetails\u001b[0m\u001b[1;33m(\u001b[0m\u001b[0mhpo\u001b[0m\u001b[1;33m)\u001b[0m\u001b[1;33m.\u001b[0m\u001b[0mshow\u001b[0m\u001b[1;33m(\u001b[0m\u001b[1;33m)\u001b[0m\u001b[1;33m\u001b[0m\u001b[1;33m\u001b[0m\u001b[0m\n",
      "\u001b[1;32m~\\AppData\\Local\\Continuum\\anaconda3\\envs\\pyr\\lib\\site-packages\\azureml\\_jupyter_common\\__init__.py\u001b[0m in \u001b[0;36msubmit\u001b[1;34m(self, config, tags, **kwargs)\u001b[0m\n\u001b[0;32m     84\u001b[0m \u001b[1;32mdef\u001b[0m \u001b[0m_experiment_submit_notebook_decorator\u001b[0m\u001b[1;33m(\u001b[0m\u001b[0moriginal_submit\u001b[0m\u001b[1;33m)\u001b[0m\u001b[1;33m:\u001b[0m\u001b[1;33m\u001b[0m\u001b[1;33m\u001b[0m\u001b[0m\n\u001b[0;32m     85\u001b[0m     \u001b[1;32mdef\u001b[0m \u001b[0msubmit\u001b[0m\u001b[1;33m(\u001b[0m\u001b[0mself\u001b[0m\u001b[1;33m,\u001b[0m \u001b[0mconfig\u001b[0m\u001b[1;33m,\u001b[0m \u001b[0mtags\u001b[0m\u001b[1;33m=\u001b[0m\u001b[1;32mNone\u001b[0m\u001b[1;33m,\u001b[0m \u001b[1;33m**\u001b[0m\u001b[0mkwargs\u001b[0m\u001b[1;33m)\u001b[0m\u001b[1;33m:\u001b[0m\u001b[1;33m\u001b[0m\u001b[1;33m\u001b[0m\u001b[0m\n\u001b[1;32m---> 86\u001b[1;33m         \u001b[0mrun\u001b[0m \u001b[1;33m=\u001b[0m \u001b[0moriginal_submit\u001b[0m\u001b[1;33m(\u001b[0m\u001b[0mself\u001b[0m\u001b[1;33m,\u001b[0m \u001b[0mconfig\u001b[0m\u001b[1;33m,\u001b[0m \u001b[0mtags\u001b[0m\u001b[1;33m,\u001b[0m \u001b[1;33m**\u001b[0m\u001b[0mkwargs\u001b[0m\u001b[1;33m)\u001b[0m\u001b[1;33m\u001b[0m\u001b[1;33m\u001b[0m\u001b[0m\n\u001b[0m\u001b[0;32m     87\u001b[0m         \u001b[0m_update_run_created_from\u001b[0m\u001b[1;33m(\u001b[0m\u001b[0mrun\u001b[0m\u001b[1;33m)\u001b[0m\u001b[1;33m\u001b[0m\u001b[1;33m\u001b[0m\u001b[0m\n\u001b[0;32m     88\u001b[0m         \u001b[1;32mreturn\u001b[0m \u001b[0mrun\u001b[0m\u001b[1;33m\u001b[0m\u001b[1;33m\u001b[0m\u001b[0m\n",
      "\u001b[1;32m~\\AppData\\Local\\Continuum\\anaconda3\\envs\\pyr\\lib\\site-packages\\azureml\\core\\experiment.py\u001b[0m in \u001b[0;36msubmit\u001b[1;34m(self, config, tags, **kwargs)\u001b[0m\n\u001b[0;32m    218\u001b[0m         \u001b[0msubmit_func\u001b[0m \u001b[1;33m=\u001b[0m \u001b[0mget_experiment_submit\u001b[0m\u001b[1;33m(\u001b[0m\u001b[0mconfig\u001b[0m\u001b[1;33m)\u001b[0m\u001b[1;33m\u001b[0m\u001b[1;33m\u001b[0m\u001b[0m\n\u001b[0;32m    219\u001b[0m         \u001b[1;32mwith\u001b[0m \u001b[0mself\u001b[0m\u001b[1;33m.\u001b[0m\u001b[0m_log_context\u001b[0m\u001b[1;33m(\u001b[0m\u001b[1;34m\"submit config {}\"\u001b[0m\u001b[1;33m.\u001b[0m\u001b[0mformat\u001b[0m\u001b[1;33m(\u001b[0m\u001b[0mconfig\u001b[0m\u001b[1;33m.\u001b[0m\u001b[0m__class__\u001b[0m\u001b[1;33m.\u001b[0m\u001b[0m__name__\u001b[0m\u001b[1;33m)\u001b[0m\u001b[1;33m)\u001b[0m\u001b[1;33m:\u001b[0m\u001b[1;33m\u001b[0m\u001b[1;33m\u001b[0m\u001b[0m\n\u001b[1;32m--> 220\u001b[1;33m             \u001b[0mrun\u001b[0m \u001b[1;33m=\u001b[0m \u001b[0msubmit_func\u001b[0m\u001b[1;33m(\u001b[0m\u001b[0mconfig\u001b[0m\u001b[1;33m,\u001b[0m \u001b[0mself\u001b[0m\u001b[1;33m.\u001b[0m\u001b[0mworkspace\u001b[0m\u001b[1;33m,\u001b[0m \u001b[0mself\u001b[0m\u001b[1;33m.\u001b[0m\u001b[0mname\u001b[0m\u001b[1;33m,\u001b[0m \u001b[1;33m**\u001b[0m\u001b[0mkwargs\u001b[0m\u001b[1;33m)\u001b[0m\u001b[1;33m\u001b[0m\u001b[1;33m\u001b[0m\u001b[0m\n\u001b[0m\u001b[0;32m    221\u001b[0m         \u001b[1;32mif\u001b[0m \u001b[0mtags\u001b[0m \u001b[1;32mis\u001b[0m \u001b[1;32mnot\u001b[0m \u001b[1;32mNone\u001b[0m\u001b[1;33m:\u001b[0m\u001b[1;33m\u001b[0m\u001b[1;33m\u001b[0m\u001b[0m\n\u001b[0;32m    222\u001b[0m             \u001b[0mrun\u001b[0m\u001b[1;33m.\u001b[0m\u001b[0mset_tags\u001b[0m\u001b[1;33m(\u001b[0m\u001b[0mtags\u001b[0m\u001b[1;33m)\u001b[0m\u001b[1;33m\u001b[0m\u001b[1;33m\u001b[0m\u001b[0m\n",
      "\u001b[1;32m~\\AppData\\Local\\Continuum\\anaconda3\\envs\\pyr\\lib\\site-packages\\azureml\\train\\hyperdrive\\_search.py\u001b[0m in \u001b[0;36msearch\u001b[1;34m(hyperdrive_config, workspace, experiment_name, **kwargs)\u001b[0m\n\u001b[0;32m     96\u001b[0m     \u001b[0mcompute_target\u001b[0m \u001b[1;33m=\u001b[0m \u001b[1;32mNone\u001b[0m\u001b[1;33m\u001b[0m\u001b[1;33m\u001b[0m\u001b[0m\n\u001b[0;32m     97\u001b[0m     \u001b[1;32mif\u001b[0m \u001b[0mhyperdrive_config\u001b[0m\u001b[1;33m.\u001b[0m\u001b[0mestimator\u001b[0m \u001b[1;32mis\u001b[0m \u001b[1;32mnot\u001b[0m \u001b[1;32mNone\u001b[0m\u001b[1;33m:\u001b[0m\u001b[1;33m\u001b[0m\u001b[1;33m\u001b[0m\u001b[0m\n\u001b[1;32m---> 98\u001b[1;33m         \u001b[0mcompute_target\u001b[0m \u001b[1;33m=\u001b[0m \u001b[0mhyperdrive_config\u001b[0m\u001b[1;33m.\u001b[0m\u001b[0mestimator\u001b[0m\u001b[1;33m.\u001b[0m\u001b[0m_compute_target\u001b[0m\u001b[1;33m\u001b[0m\u001b[1;33m\u001b[0m\u001b[0m\n\u001b[0m\u001b[0;32m     99\u001b[0m     \u001b[1;32mif\u001b[0m \u001b[0mhyperdrive_config\u001b[0m\u001b[1;33m.\u001b[0m\u001b[0mrun_config\u001b[0m \u001b[1;32mis\u001b[0m \u001b[1;32mnot\u001b[0m \u001b[1;32mNone\u001b[0m\u001b[1;33m:\u001b[0m\u001b[1;33m\u001b[0m\u001b[1;33m\u001b[0m\u001b[0m\n\u001b[0;32m    100\u001b[0m         \u001b[0mcompute_target\u001b[0m \u001b[1;33m=\u001b[0m \u001b[0mComputeTarget\u001b[0m\u001b[1;33m(\u001b[0m\u001b[0mworkspace\u001b[0m\u001b[1;33m=\u001b[0m\u001b[0mworkspace\u001b[0m\u001b[1;33m,\u001b[0m \u001b[0mname\u001b[0m\u001b[1;33m=\u001b[0m\u001b[0mhyperdrive_config\u001b[0m\u001b[1;33m.\u001b[0m\u001b[0mrun_config\u001b[0m\u001b[1;33m.\u001b[0m\u001b[0mrun_config\u001b[0m\u001b[1;33m.\u001b[0m\u001b[0mtarget\u001b[0m\u001b[1;33m)\u001b[0m\u001b[1;33m\u001b[0m\u001b[1;33m\u001b[0m\u001b[0m\n",
      "\u001b[1;31mAttributeError\u001b[0m: 'ScriptRunConfig' object has no attribute '_compute_target'"
     ]
    }
   ],
   "source": [
    "hpo = exp.submit(hyperdrive_config)\n",
    "RunDetails(hpo).show()"
   ]
  },
  {
   "cell_type": "code",
   "execution_count": null,
   "metadata": {},
   "outputs": [],
   "source": []
  }
 ],
 "metadata": {
  "kernelspec": {
   "display_name": "Python 3",
   "language": "python",
   "name": "python3"
  },
  "language_info": {
   "codemirror_mode": {
    "name": "ipython",
    "version": 3
   },
   "file_extension": ".py",
   "mimetype": "text/x-python",
   "name": "python",
   "nbconvert_exporter": "python",
   "pygments_lexer": "ipython3",
   "version": "3.6.10"
  }
 },
 "nbformat": 4,
 "nbformat_minor": 4
}
